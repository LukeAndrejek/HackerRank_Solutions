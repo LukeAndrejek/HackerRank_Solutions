{
 "cells": [
  {
   "cell_type": "code",
   "execution_count": null,
   "metadata": {},
   "outputs": [],
   "source": [
    "# Warm-up Challenges"
   ]
  },
  {
   "cell_type": "code",
   "execution_count": null,
   "metadata": {},
   "outputs": [],
   "source": [
    "# Sales by Match\n",
    "\n",
    "# For each sock category, you can count the number of pairs using the floor of half the number of socks\n",
    "\n",
    "def sockMerchant(n, ar):\n",
    "    # Get list of unique sock categories\n",
    "    uniqueSocks = []\n",
    "    for i in range(n):\n",
    "        if ar[i] not in uniqueSocks:\n",
    "            uniqueSocks.append(ar[i])\n",
    "    # Determine the number of socks in each sock category\n",
    "    sockCounts = []\n",
    "    for i in range(len(uniqueSocks)):\n",
    "        sockCount_i = 0\n",
    "        for j in range(n):\n",
    "            if ar[j] == uniqueSocks[i]:\n",
    "                sockCount_i = sockCount_i + 1\n",
    "        sockCounts.append(sockCount_i)\n",
    "    # Count the number of pairs\n",
    "    pairs = 0\n",
    "    for i in range(len(sockCounts)):\n",
    "        pairs = pairs + math.floor(sockCounts[i]/2)\n",
    "    return(pairs)"
   ]
  },
  {
   "cell_type": "code",
   "execution_count": null,
   "metadata": {},
   "outputs": [],
   "source": [
    "# Counting Valleys\n",
    "\n",
    "# You know you've exited a valley when your elevation goes from -1 to 0\n",
    "\n",
    "def countingValleys(steps, path):\n",
    "    # Write your code here\n",
    "    valleys = 0\n",
    "    previousLevel = 0\n",
    "    currentLevel = 0\n",
    "    for i in range(steps):\n",
    "        # Update previous and current level\n",
    "        previousLevel = currentLevel\n",
    "        if path[i] == \"U\":\n",
    "            currentLevel = currentLevel + 1\n",
    "        else:\n",
    "            currentLevel = currentLevel - 1\n",
    "        # Determine if a new valley has been added\n",
    "        if currentLevel == 0 and previousLevel == -1:\n",
    "            valleys = valleys + 1\n",
    "    return(valleys)"
   ]
  },
  {
   "cell_type": "code",
   "execution_count": null,
   "metadata": {},
   "outputs": [],
   "source": [
    "# Jumping on the Clouds\n",
    "\n",
    "# The optimal strategy is to always jump two spaces if possible\n",
    "# When looking two spaces ahead, make sure you do not exceed the length of the list\n",
    "\n",
    "def jumpingOnClouds(c):\n",
    "    jumpCount = 0\n",
    "    index = 0\n",
    "    # Execute jumping strategy\n",
    "    while index < len(c) - 2:\n",
    "        jumpCount = jumpCount + 1\n",
    "        if c[index+2] == 0:\n",
    "            index = index + 2\n",
    "        else:\n",
    "            index = index + 1\n",
    "    # Jump once more if the end has not been reached\n",
    "    if index == len(c) - 2:\n",
    "        jumpCount = jumpCount + 1\n",
    "    return(jumpCount)"
   ]
  },
  {
   "cell_type": "code",
   "execution_count": null,
   "metadata": {},
   "outputs": [],
   "source": [
    "# Repeated String\n",
    "\n",
    "# You have to count the number of a's in s and multiply by the number of full instances of s, then add the remaining a's\n",
    "\n",
    "def repeatedString(s, n):\n",
    "    count = 0\n",
    "    # Count the number of a's in s\n",
    "    for i in range(len(s)):\n",
    "        if s[i] == 'a':\n",
    "            count = count + 1\n",
    "    # Count the number of a's in the full instances of s\n",
    "    m = math.floor(n / len(s))\n",
    "    count = count * m\n",
    "    # Count the remaining number of a's\n",
    "    s2 = s[0:n-m*len(s)]\n",
    "    for i in range(len(s2)):\n",
    "        if s2[i] == 'a':\n",
    "            count = count + 1\n",
    "    return(count)"
   ]
  },
  {
   "cell_type": "code",
   "execution_count": null,
   "metadata": {},
   "outputs": [],
   "source": [
    "# Arrays"
   ]
  },
  {
   "cell_type": "code",
   "execution_count": null,
   "metadata": {},
   "outputs": [],
   "source": [
    "# 2D Array - DS\n",
    "\n",
    "# Note that the 2D array dimensions are fixed at 6x6\n",
    "\n",
    "def hourglassSum(arr):\n",
    "    sumList = []\n",
    "    for i in range(1,5):\n",
    "        for j in range(1,5):\n",
    "            currentSum = arr[i-1][j-1] + arr[i-1][j] + arr[i-1][j+1] + arr[i][j] \\\n",
    "            + arr[i+1][j-1] + arr[i+1][j] + arr[i+1][j+1]\n",
    "            sumList.append(currentSum)\n",
    "    largestSum = max(sumList)\n",
    "    return(largestSum)"
   ]
  },
  {
   "cell_type": "code",
   "execution_count": null,
   "metadata": {},
   "outputs": [],
   "source": [
    "# Arrays: Left Rotation\n",
    "\n",
    "# Performing d rotations consists of moving the first d characters to the end of the string\n",
    "\n",
    "def rotLeft(a, d):\n",
    "    return(a[d:len(a)] + a[0:d])"
   ]
  },
  {
   "cell_type": "code",
   "execution_count": null,
   "metadata": {},
   "outputs": [],
   "source": [
    "# Minimum Swaps 2\n",
    "\n",
    "# The optimal strategy is to simply run through the list and for each entry in the wrong location, move it to the correct location\n",
    "# Making each swap will either correct one entry, in which case the remaining entries will simply be permuted, or it will correct both entries, which cannot be further optimized\n",
    "\n",
    "# This code comes from a comment by mwwhite\n",
    "# According to mwwhite, \"None of the test cases time out because it looks up indexes to swap using a hash table instead of the list.index method.\"\n",
    "# We use both index_dict and enumerate(arr) because the we want to loop through the indices in enumerate(arr) but want to lookup the locations of the correct values\n",
    "\n",
    "ref_arr = sorted(arr)\n",
    "    index_dict = {v: i for i,v in enumerate(arr)}\n",
    "    swaps = 0\n",
    "    \n",
    "    for i,v in enumerate(arr):\n",
    "        # Correct the value in index i if necessary\n",
    "        correct_value = ref_arr[i]\n",
    "        if v != correct_value:\n",
    "            # Find the index where the correct value is located\n",
    "            to_swap_ix = index_dict[correct_value]\n",
    "            # Switch the values in indices i and to_swap_ix\n",
    "            arr[to_swap_ix],arr[i] = arr[i], arr[to_swap_ix]\n",
    "            index_dict[v] = to_swap_ix\n",
    "            index_dict[correct_value] = i\n",
    "            # Increase the swap counter\n",
    "            swaps += 1\n",
    "            \n",
    "    return swaps"
   ]
  }
 ],
 "metadata": {
  "kernelspec": {
   "display_name": "Python 3",
   "language": "python",
   "name": "python3"
  },
  "language_info": {
   "codemirror_mode": {
    "name": "ipython",
    "version": 3
   },
   "file_extension": ".py",
   "mimetype": "text/x-python",
   "name": "python",
   "nbconvert_exporter": "python",
   "pygments_lexer": "ipython3",
   "version": "3.7.6"
  }
 },
 "nbformat": 4,
 "nbformat_minor": 4
}
